{
 "cells": [
  {
   "cell_type": "markdown",
   "metadata": {},
   "source": [
    "zadanie 1."
   ]
  },
  {
   "cell_type": "code",
   "execution_count": 1,
   "metadata": {},
   "outputs": [],
   "source": [
    "from math import sqrt\n",
    "k = 1240 * sqrt(7)\n",
    "m = 4467\n",
    "l = 2j\n",
    "d = k+m\n",
    "c = d+l"
   ]
  },
  {
   "cell_type": "markdown",
   "metadata": {},
   "source": [
    "zadanie 2."
   ]
  },
  {
   "cell_type": "code",
   "execution_count": 2,
   "metadata": {},
   "outputs": [
    {
     "name": "stdout",
     "output_type": "stream",
     "text": [
      "7747.731625720093\n",
      "7747.732\n",
      "7747.73162572009277937468\n"
     ]
    }
   ],
   "source": [
    "print(d)\n",
    "print( \"{a:.3f}\".format(a = d ) )\n",
    "print( \"{a:.20f}\".format(a = d ))"
   ]
  },
  {
   "cell_type": "markdown",
   "metadata": {},
   "source": [
    "zadanie 3."
   ]
  },
  {
   "cell_type": "code",
   "execution_count": 3,
   "metadata": {},
   "outputs": [
    {
     "name": "stdout",
     "output_type": "stream",
     "text": [
      "5340.707511102648\n"
     ]
    }
   ],
   "source": [
    "from math import pi\n",
    "r=17\n",
    "h=33\n",
    "S=2*r*pi*h+2*r**2*pi\n",
    "print(S)"
   ]
  },
  {
   "cell_type": "markdown",
   "metadata": {},
   "source": [
    "zadanie 4."
   ]
  },
  {
   "cell_type": "code",
   "execution_count": 4,
   "metadata": {},
   "outputs": [
    {
     "data": {
      "text/plain": [
       "'\\nr to promień podstawy walca\\nh to jego wysokosc\\n'"
      ]
     },
     "execution_count": 4,
     "metadata": {},
     "output_type": "execute_result"
    }
   ],
   "source": [
    "\"\"\"\n",
    "r to promień podstawy walca\n",
    "h to jego wysokosc\n",
    "\"\"\" \n",
    "# S to pole powierzchni"
   ]
  },
  {
   "cell_type": "markdown",
   "metadata": {},
   "source": [
    "zadanie 5."
   ]
  },
  {
   "cell_type": "code",
   "execution_count": 5,
   "metadata": {},
   "outputs": [
    {
     "name": "stdout",
     "output_type": "stream",
     "text": [
      "0.5809230838528177\n"
     ]
    }
   ],
   "source": [
    "from math import sin\n",
    "x1=1\n",
    "r=2\n",
    "t=1\n",
    "B=((x1+r)/(r*sin(2*x1)+3.3456))*x1**(t-r)\n",
    "print(B)"
   ]
  },
  {
   "cell_type": "markdown",
   "metadata": {},
   "source": [
    "zadanie 6."
   ]
  },
  {
   "cell_type": "code",
   "execution_count": 6,
   "metadata": {},
   "outputs": [
    {
     "name": "stdout",
     "output_type": "stream",
     "text": [
      "[[ 1.41421356  1.         -1.41421356]\n",
      " [ 0.          1.          1.        ]\n",
      " [-1.41421356  1.41421356  1.        ]]\n",
      "--------------------\n",
      "[[ 0.10355339  0.75       -0.60355339]\n",
      " [ 0.35355339  0.14644661  0.35355339]\n",
      " [-0.35355339  0.85355339 -0.35355339]]\n",
      "--------------------\n",
      "[[ 1.41421356  0.         -1.41421356]\n",
      " [ 1.          1.          1.41421356]\n",
      " [-1.41421356  1.          1.        ]]\n",
      "--------------------\n",
      "-4.0\n",
      "--------------------\n"
     ]
    }
   ],
   "source": [
    "import numpy\n",
    "a = sqrt(2)\n",
    "M=numpy.array([[a,1,-a],[0,1,1],[-a,a,1]])\n",
    "print(M)\n",
    "print(\"--------------------\")\n",
    "Minv = numpy.linalg.inv(M)\n",
    "print(Minv)\n",
    "print(\"--------------------\")\n",
    "Mt = numpy.transpose(M)\n",
    "print(Mt)\n",
    "print(\"--------------------\")\n",
    "Mdet=numpy.linalg.det(M)\n",
    "print(Mdet)\n",
    "print(\"--------------------\")"
   ]
  },
  {
   "cell_type": "markdown",
   "metadata": {},
   "source": [
    "zadanie 7."
   ]
  },
  {
   "cell_type": "code",
   "execution_count": 7,
   "metadata": {},
   "outputs": [
    {
     "name": "stdout",
     "output_type": "stream",
     "text": [
      "M1x1: 1.4142135623730951 \n",
      "M3x3: 1.0 \n",
      "M3x2: 1.4142135623730951 \n",
      "trzecia kolumna: [[-1.41421356  1.          1.        ]]\n",
      "drugi wiersz: [[0. 1. 1.]]\n"
     ]
    }
   ],
   "source": [
    "print(\"M1x1: {0} \".format(M[0,0]))\n",
    "print(\"M3x3: {0} \".format(M[2,2]))\n",
    "print(\"M3x2: {0} \".format(M[2,1]))\n",
    "w1 = numpy.array( [M[:,2]])\n",
    "print(\"trzecia kolumna: {0}\".format(w1))\n",
    "w2 = numpy.array([M[1,:]])\n",
    "print(\"drugi wiersz: {0}\".format(w2))"
   ]
  },
  {
   "cell_type": "markdown",
   "metadata": {},
   "source": [
    "zadanie 8."
   ]
  },
  {
   "cell_type": "code",
   "execution_count": 8,
   "metadata": {},
   "outputs": [
    {
     "name": "stdout",
     "output_type": "stream",
     "text": [
      "[ 5.  3.  2. -2. -1.]\n"
     ]
    }
   ],
   "source": [
    "coeff = [1,-7,3,43,-28,-60]\n",
    "print(numpy.roots(coeff))"
   ]
  },
  {
   "cell_type": "markdown",
   "metadata": {},
   "source": [
    "zadanie 9."
   ]
  },
  {
   "cell_type": "code",
   "execution_count": 9,
   "metadata": {},
   "outputs": [
    {
     "name": "stdout",
     "output_type": "stream",
     "text": [
      "[1.  3.5 6.  8.5]\n",
      "[ 1.    3.25  5.5   7.75 10.  ]\n"
     ]
    }
   ],
   "source": [
    "ciag1 = numpy.arange(1,10,2.5)\n",
    "print(ciag1)\n",
    "ciag2 = numpy.linspace(1,10,num=5)\n",
    "print(ciag2)"
   ]
  },
  {
   "cell_type": "markdown",
   "metadata": {},
   "source": [
    "zadanie 10."
   ]
  },
  {
   "cell_type": "code",
   "execution_count": 10,
   "metadata": {},
   "outputs": [
    {
     "data": {
      "image/png": "[encoded data removed]",
      "text/plain": [
       "<matplotlib.figure.Figure at 0x7fa731e53908>"
      ]
     },
     "metadata": {},
     "output_type": "display_data"
    },
    {
     "data": {
      "image/png": "[encoded data removed]",
      "text/plain": [
       "<matplotlib.figure.Figure at 0x7fa731f94898>"
      ]
     },
     "metadata": {},
     "output_type": "display_data"
    },
    {
     "data": {
      "image/png": "[encoded data removed]",
      "text/plain": [
       "<matplotlib.figure.Figure at 0x7fa731d004a8>"
      ]
     },
     "metadata": {},
     "output_type": "display_data"
    }
   ],
   "source": [
    "def funkcja(x):\n",
    "    return x**3-3*x\n",
    "import matplotlib.pyplot as plt\n",
    "import numpy\n",
    "x = numpy.linspace(-1,1)\n",
    "y = []\n",
    "for i in x:\n",
    "    y.append(funkcja(i))\n",
    "plt.plot(x, y)\n",
    "plt.title('Wykres 1')\n",
    "plt.xlabel('x')\n",
    "plt.ylabel('y')\n",
    "plt.legend('Wykres 1')\n",
    "plt.show()\n",
    "\n",
    "x = numpy.linspace(-5,5)\n",
    "y = [funkcja(i) for i in x]\n",
    "plt.plot(x, y)\n",
    "plt.title('Wykres 2')\n",
    "plt.xlabel('x')\n",
    "plt.ylabel('y')\n",
    "plt.legend('Wykres 2')\n",
    "plt.show()\n",
    "\n",
    "x = numpy.linspace(0,5)\n",
    "y = funkcja(x)\n",
    "plt.plot(x, y)\n",
    "plt.title('Wykres 3')\n",
    "plt.xlabel('x')\n",
    "plt.ylabel('y')\n",
    "plt.legend('Wykres 3')\n",
    "plt.show()"
   ]
  },
  {
   "cell_type": "markdown",
   "metadata": {},
   "source": [
    "zadanie 11."
   ]
  },
  {
   "cell_type": "code",
   "execution_count": 11,
   "metadata": {},
   "outputs": [
    {
     "name": "stdout",
     "output_type": "stream",
     "text": [
      "ciepo wydzielone w kilokaloriach: 0.08293260299565974\n",
      "ciepo wydzielone w dzulach: 347.2222222222223\n"
     ]
    },
    {
     "data": {
      "image/png": "[encoded data removed]",
      "text/plain": [
       "<matplotlib.figure.Figure at 0x7f95b5799748>"
      ]
     },
     "metadata": {},
     "output_type": "display_data"
    },
    {
     "data": {
      "image/png": "[encoded data removed]",
      "text/plain": [
       "<matplotlib.figure.Figure at 0x7f95b5b8f208>"
      ]
     },
     "metadata": {},
     "output_type": "display_data"
    }
   ],
   "source": [
    "import numpy\n",
    "import matplotlib.pyplot as plt\n",
    "def cieplo(m,v):\n",
    "    return m*v**2/2\n",
    "m1=2500\n",
    "m=m1*0.001\n",
    "v1=60\n",
    "v=v1/3.6\n",
    "Q=cieplo(m,v)\n",
    "print(\"ciepo wydzielone w kilokaloriach: {0}\".format(Q*0.0002388458966275))\n",
    "print(\"ciepo wydzielone w dzulach: {0}\".format(Q))\n",
    "x=numpy.linspace(200,0)\n",
    "y=[cieplo(3,i/3.6) for i in x]\n",
    "plt.xlim(200,0)\n",
    "plt.plot(x, y)\n",
    "plt.title('Wykres cieplo, liniowy')\n",
    "plt.xlabel('V [km/h]')\n",
    "plt.ylabel('Q [J]')\n",
    "plt.legend('w')\n",
    "plt.show()\n",
    "\n",
    "x=numpy.linspace(200,0)\n",
    "y=[cieplo(3,i/3.6) for i in x]\n",
    "plt.xlim(200,0)\n",
    "plt.semilogy(x, y)\n",
    "plt.title('Wykres cieplo, logarytmiczny')\n",
    "plt.xlabel('V [km/h]')\n",
    "plt.ylabel('Q [J]')\n",
    "plt.legend('w')\n",
    "plt.show()"
   ]
  }
 ],
 "metadata": {
  "kernelspec": {
   "display_name": "Python 3",
   "language": "python",
   "name": "python3"
  },
  "language_info": {
   "codemirror_mode": {
    "name": "ipython",
    "version": 3
   },
   "file_extension": ".py",
   "mimetype": "text/x-python",
   "name": "python",
   "nbconvert_exporter": "python",
   "pygments_lexer": "ipython3",
   "version": "3.6.6"
  }
 },
 "nbformat": 4,
 "nbformat_minor": 2
}
