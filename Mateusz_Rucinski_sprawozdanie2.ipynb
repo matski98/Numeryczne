{
 "cells": [
  {
   "cell_type": "markdown",
   "metadata": {},
   "source": [
    "zadanie 1."
   ]
  },
  {
   "cell_type": "code",
   "execution_count": 1,
   "metadata": {},
   "outputs": [
    {
     "name": "stdout",
     "output_type": "stream",
     "text": [
      "p:  3.141592653589793\n",
      "p*:  3.142857142857143\n",
      "blad wzgledny:  0.0004024994347707008\n",
      "blad bezwzgledny 0.0012644892673496777\n",
      "p:  2.718281828459045\n",
      "p*:  2.718\n",
      "blad wzgledny:  0.00010367889601972718\n",
      "blad bezwzgledny 0.0002818284590451192\n",
      "p:  1385.4557313670107\n",
      "p*:  1397\n",
      "blad wzgledny:  0.008332470227394952\n",
      "blad bezwzgledny 11.544268632989315\n",
      "p:  362880\n",
      "p*:  359536.87284194835\n",
      "blad wzgledny:  0.009212762230080598\n",
      "blad bezwzgledny 3343.1271580516477\n"
     ]
    }
   ],
   "source": [
    "def wzgledny(p,p1):\n",
    "    return abs(p-p1)/p\n",
    "def bezwzgledny(p,p1):\n",
    "    return abs(p-p1)\n",
    "import math\n",
    "p = math.pi\n",
    "p1=22/7\n",
    "print(\"p: \",p)\n",
    "print(\"p*: \",p1)\n",
    "print(\"blad wzgledny: \",wzgledny(p,p1))\n",
    "print(\"blad bezwzgledny\", bezwzgledny(p,p1))  \n",
    "p=math.e\n",
    "p1=2.718\n",
    "print(\"p: \",p)\n",
    "print(\"p*: \",p1)\n",
    "print(\"blad wzgledny: \",wzgledny(p,p1))\n",
    "print(\"blad bezwzgledny\", bezwzgledny(p,p1))\n",
    "p=10**math.pi\n",
    "p1=1397\n",
    "print(\"p: \",p)\n",
    "print(\"p*: \",p1)\n",
    "print(\"blad wzgledny: \",wzgledny(p,p1))\n",
    "print(\"blad bezwzgledny\", bezwzgledny(p,p1))\n",
    "p=math.factorial(9)\n",
    "p1=math.sqrt(18*math.pi)*((9/math.e)**9)\n",
    "print(\"p: \",p)\n",
    "print(\"p*: \",p1)\n",
    "print(\"blad wzgledny: \",wzgledny(p,p1))\n",
    "print(\"blad bezwzgledny\", bezwzgledny(p,p1))"
   ]
  },
  {
   "cell_type": "markdown",
   "metadata": {},
   "source": [
    "zadanie 2."
   ]
  },
  {
   "cell_type": "code",
   "execution_count": 2,
   "metadata": {},
   "outputs": [],
   "source": [
    "def G(n):\n",
    "    x=[]\n",
    "    for i in range(1,n+1):\n",
    "        x.append((10**i*(1+round(math.pi,15)*i*10**-i)-10**i)/i)\n",
    "    return x"
   ]
  },
  {
   "cell_type": "markdown",
   "metadata": {},
   "source": [
    "zadanie 2.1\n",
    "\n",
    "Analitycznie wartość G(p) nie zależy od p, poniważ można sprowadzić funkcje do samego $\\pi$"
   ]
  },
  {
   "cell_type": "markdown",
   "metadata": {},
   "source": [
    "zadanie 2.2"
   ]
  },
  {
   "cell_type": "code",
   "execution_count": 5,
   "metadata": {},
   "outputs": [
    {
     "data": {
      "image/png": "[encoded data removed]",
      "text/plain": [
       "<Figure size 432x288 with 1 Axes>"
      ]
     },
     "metadata": {},
     "output_type": "display_data"
    },
    {
     "data": {
      "image/png": "[encoded data removed]",
      "text/plain": [
       "<Figure size 432x288 with 1 Axes>"
      ]
     },
     "metadata": {},
     "output_type": "display_data"
    }
   ],
   "source": [
    "import matplotlib.pyplot as plt\n",
    "\n",
    "g=G(20)\n",
    "x = [i for i in range(20)]\n",
    "y = [wzgledny(math.pi,g[i]) for i in range(20)]\n",
    "plt.semilogy(x, y)\n",
    "plt.title('blad wzgledny')\n",
    "plt.xlabel('n')\n",
    "plt.ylabel('blad')\n",
    "plt.show()\n",
    "\n",
    "x = [i for i in range(20)]\n",
    "y = [bezwzgledny(math.pi,g[i]) for i in range(20)]\n",
    "plt.semilogy(x, y)\n",
    "plt.title('blad bezwzgledny')\n",
    "plt.xlabel('n')\n",
    "plt.ylabel('blad')\n",
    "plt.show()"
   ]
  },
  {
   "cell_type": "markdown",
   "metadata": {},
   "source": [
    "zadanie 2.3\n",
    "\n",
    "Błąd rośnie co wskazuje na to, że algorytm jest niestabilny numerycznie."
   ]
  },
  {
   "cell_type": "markdown",
   "metadata": {},
   "source": [
    "zadanie 2.4\n",
    "\n",
    "Występuje tu błąd zaokrąglenia."
   ]
  },
  {
   "cell_type": "markdown",
   "metadata": {},
   "source": [
    "zadanie 3."
   ]
  },
  {
   "cell_type": "code",
   "execution_count": 6,
   "metadata": {},
   "outputs": [
    {
     "name": "stdout",
     "output_type": "stream",
     "text": [
      "blad wzgledny dla n=5:  0.0005941848175817597\n",
      "blad bezwzgledny dla n=5:  0.0016151617923787498\n",
      "blad wzgledny dla n=10:  1.0047766310211053e-08\n",
      "blad bezwzgledny dla n=10:  2.7312660577649694e-08\n"
     ]
    }
   ],
   "source": [
    "def e(n):\n",
    "    a = 0;\n",
    "    for i in range(n+1):\n",
    "        a += 1/ math.factorial(i)\n",
    "    return a\n",
    "\n",
    "print(\"blad wzgledny dla n=5: \", wzgledny(math.e,e(5)))\n",
    "print(\"blad bezwzgledny dla n=5: \", bezwzgledny(math.e,e(5)))\n",
    "print(\"blad wzgledny dla n=10: \", wzgledny(math.e,e(10)))\n",
    "print(\"blad bezwzgledny dla n=10: \", bezwzgledny(math.e,e(10)))"
   ]
  },
  {
   "cell_type": "markdown",
   "metadata": {},
   "source": [
    "zadanie 4."
   ]
  },
  {
   "cell_type": "code",
   "execution_count": 7,
   "metadata": {},
   "outputs": [
    {
     "name": "stdout",
     "output_type": "stream",
     "text": [
      "0.0\n",
      "-1.1102230246251565e-16\n"
     ]
    }
   ],
   "source": [
    "a = 1.0\n",
    "b = 2**-52\n",
    "print(a+b-a-b)\n",
    "\n",
    "b = 2**-53\n",
    "print(a+b-a-b)"
   ]
  },
  {
   "cell_type": "markdown",
   "metadata": {},
   "source": [
    "Można wywnioskować, że mantysa w Pythonie domyślnie ma 52 bity\n",
    "Występuje tu błąd zaokrągleń."
   ]
  },
  {
   "cell_type": "code",
   "execution_count": 8,
   "metadata": {},
   "outputs": [
    {
     "data": {
      "text/plain": [
       "True"
      ]
     },
     "execution_count": 8,
     "metadata": {},
     "output_type": "execute_result"
    }
   ],
   "source": [
    "1+2**-53==1"
   ]
  },
  {
   "cell_type": "markdown",
   "metadata": {},
   "source": [
    "zadanie 5."
   ]
  },
  {
   "cell_type": "code",
   "execution_count": 9,
   "metadata": {},
   "outputs": [
    {
     "name": "stdout",
     "output_type": "stream",
     "text": [
      "3.1414971543976273\n"
     ]
    }
   ],
   "source": [
    "pi = lambda x : math.sqrt(6*sum([1/(i*i) for i in range(1,x)]))\n",
    "print(pi(10000))"
   ]
  },
  {
   "cell_type": "markdown",
   "metadata": {},
   "source": [
    "Mamy tu do czyniania z błędem odcięcia."
   ]
  }
 ],
 "metadata": {
  "kernelspec": {
   "display_name": "Python 3",
   "language": "python",
   "name": "python3"
  },
  "language_info": {
   "codemirror_mode": {
    "name": "ipython",
    "version": 3
   },
   "file_extension": ".py",
   "mimetype": "text/x-python",
   "name": "python",
   "nbconvert_exporter": "python",
   "pygments_lexer": "ipython3",
   "version": "3.6.7"
  }
 },
 "nbformat": 4,
 "nbformat_minor": 2
}
